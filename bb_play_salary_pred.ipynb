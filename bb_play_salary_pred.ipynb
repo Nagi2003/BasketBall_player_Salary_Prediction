{
 "cells": [
  {
   "cell_type": "code",
   "execution_count": 44,
   "id": "9d49ecb8-ddd0-4371-ad25-0ecce3c13a46",
   "metadata": {},
   "outputs": [],
   "source": [
    "import numpy as np\n",
    "import pandas as pd\n",
    "import matplotlib.pyplot as plt"
   ]
  },
  {
   "cell_type": "code",
   "execution_count": 45,
   "id": "d7ba16a0-4612-4f99-bdc7-31c8759c1dbf",
   "metadata": {},
   "outputs": [],
   "source": [
    "df=pd.read_csv(\"nba2k20-full.csv\")"
   ]
  },
  {
   "cell_type": "code",
   "execution_count": 46,
   "id": "e7bed678-e0fe-40b3-9763-6a77d0f451bc",
   "metadata": {},
   "outputs": [
    {
     "data": {
      "text/html": [
       "<div>\n",
       "<style scoped>\n",
       "    .dataframe tbody tr th:only-of-type {\n",
       "        vertical-align: middle;\n",
       "    }\n",
       "\n",
       "    .dataframe tbody tr th {\n",
       "        vertical-align: top;\n",
       "    }\n",
       "\n",
       "    .dataframe thead th {\n",
       "        text-align: right;\n",
       "    }\n",
       "</style>\n",
       "<table border=\"1\" class=\"dataframe\">\n",
       "  <thead>\n",
       "    <tr style=\"text-align: right;\">\n",
       "      <th></th>\n",
       "      <th>full_name</th>\n",
       "      <th>rating</th>\n",
       "      <th>jersey</th>\n",
       "      <th>team</th>\n",
       "      <th>position</th>\n",
       "      <th>b_day</th>\n",
       "      <th>height</th>\n",
       "      <th>weight</th>\n",
       "      <th>salary</th>\n",
       "      <th>country</th>\n",
       "      <th>draft_year</th>\n",
       "      <th>draft_round</th>\n",
       "      <th>draft_peak</th>\n",
       "      <th>college</th>\n",
       "    </tr>\n",
       "  </thead>\n",
       "  <tbody>\n",
       "    <tr>\n",
       "      <th>0</th>\n",
       "      <td>LeBron James</td>\n",
       "      <td>97</td>\n",
       "      <td>#23</td>\n",
       "      <td>Los Angeles Lakers</td>\n",
       "      <td>F</td>\n",
       "      <td>12/30/84</td>\n",
       "      <td>6-9 / 2.06</td>\n",
       "      <td>250 lbs. / 113.4 kg.</td>\n",
       "      <td>$37436858</td>\n",
       "      <td>USA</td>\n",
       "      <td>2003</td>\n",
       "      <td>1</td>\n",
       "      <td>1</td>\n",
       "      <td>NaN</td>\n",
       "    </tr>\n",
       "    <tr>\n",
       "      <th>1</th>\n",
       "      <td>Kawhi Leonard</td>\n",
       "      <td>97</td>\n",
       "      <td>#2</td>\n",
       "      <td>Los Angeles Clippers</td>\n",
       "      <td>F</td>\n",
       "      <td>06/29/91</td>\n",
       "      <td>6-7 / 2.01</td>\n",
       "      <td>225 lbs. / 102.1 kg.</td>\n",
       "      <td>$32742000</td>\n",
       "      <td>USA</td>\n",
       "      <td>2011</td>\n",
       "      <td>1</td>\n",
       "      <td>15</td>\n",
       "      <td>San Diego State</td>\n",
       "    </tr>\n",
       "    <tr>\n",
       "      <th>2</th>\n",
       "      <td>Giannis Antetokounmpo</td>\n",
       "      <td>96</td>\n",
       "      <td>#34</td>\n",
       "      <td>Milwaukee Bucks</td>\n",
       "      <td>F-G</td>\n",
       "      <td>12/06/94</td>\n",
       "      <td>6-11 / 2.11</td>\n",
       "      <td>242 lbs. / 109.8 kg.</td>\n",
       "      <td>$25842697</td>\n",
       "      <td>Greece</td>\n",
       "      <td>2013</td>\n",
       "      <td>1</td>\n",
       "      <td>15</td>\n",
       "      <td>NaN</td>\n",
       "    </tr>\n",
       "    <tr>\n",
       "      <th>3</th>\n",
       "      <td>Kevin Durant</td>\n",
       "      <td>96</td>\n",
       "      <td>#7</td>\n",
       "      <td>Brooklyn Nets</td>\n",
       "      <td>F</td>\n",
       "      <td>09/29/88</td>\n",
       "      <td>6-10 / 2.08</td>\n",
       "      <td>230 lbs. / 104.3 kg.</td>\n",
       "      <td>$37199000</td>\n",
       "      <td>USA</td>\n",
       "      <td>2007</td>\n",
       "      <td>1</td>\n",
       "      <td>2</td>\n",
       "      <td>Texas</td>\n",
       "    </tr>\n",
       "    <tr>\n",
       "      <th>4</th>\n",
       "      <td>James Harden</td>\n",
       "      <td>96</td>\n",
       "      <td>#13</td>\n",
       "      <td>Houston Rockets</td>\n",
       "      <td>G</td>\n",
       "      <td>08/26/89</td>\n",
       "      <td>6-5 / 1.96</td>\n",
       "      <td>220 lbs. / 99.8 kg.</td>\n",
       "      <td>$38199000</td>\n",
       "      <td>USA</td>\n",
       "      <td>2009</td>\n",
       "      <td>1</td>\n",
       "      <td>3</td>\n",
       "      <td>Arizona State</td>\n",
       "    </tr>\n",
       "  </tbody>\n",
       "</table>\n",
       "</div>"
      ],
      "text/plain": [
       "               full_name  rating jersey                  team position  \\\n",
       "0           LeBron James      97    #23    Los Angeles Lakers        F   \n",
       "1          Kawhi Leonard      97     #2  Los Angeles Clippers        F   \n",
       "2  Giannis Antetokounmpo      96    #34       Milwaukee Bucks      F-G   \n",
       "3           Kevin Durant      96     #7         Brooklyn Nets        F   \n",
       "4           James Harden      96    #13       Houston Rockets        G   \n",
       "\n",
       "      b_day       height                weight     salary country  draft_year  \\\n",
       "0  12/30/84   6-9 / 2.06  250 lbs. / 113.4 kg.  $37436858     USA        2003   \n",
       "1  06/29/91   6-7 / 2.01  225 lbs. / 102.1 kg.  $32742000     USA        2011   \n",
       "2  12/06/94  6-11 / 2.11  242 lbs. / 109.8 kg.  $25842697  Greece        2013   \n",
       "3  09/29/88  6-10 / 2.08  230 lbs. / 104.3 kg.  $37199000     USA        2007   \n",
       "4  08/26/89   6-5 / 1.96   220 lbs. / 99.8 kg.  $38199000     USA        2009   \n",
       "\n",
       "  draft_round draft_peak          college  \n",
       "0           1          1              NaN  \n",
       "1           1         15  San Diego State  \n",
       "2           1         15              NaN  \n",
       "3           1          2            Texas  \n",
       "4           1          3    Arizona State  "
      ]
     },
     "execution_count": 46,
     "metadata": {},
     "output_type": "execute_result"
    }
   ],
   "source": [
    "df.head()"
   ]
  },
  {
   "cell_type": "code",
   "execution_count": 47,
   "id": "3f3c4502-6070-4744-83f9-3b8eee7af4e7",
   "metadata": {},
   "outputs": [
    {
     "data": {
      "text/plain": [
       "(429, 14)"
      ]
     },
     "execution_count": 47,
     "metadata": {},
     "output_type": "execute_result"
    }
   ],
   "source": [
    "df.shape"
   ]
  },
  {
   "cell_type": "code",
   "execution_count": 48,
   "id": "e52b6022-170f-4457-928f-505ab657be57",
   "metadata": {},
   "outputs": [
    {
     "name": "stdout",
     "output_type": "stream",
     "text": [
      "<class 'pandas.core.frame.DataFrame'>\n",
      "RangeIndex: 429 entries, 0 to 428\n",
      "Data columns (total 14 columns):\n",
      " #   Column       Non-Null Count  Dtype \n",
      "---  ------       --------------  ----- \n",
      " 0   full_name    429 non-null    object\n",
      " 1   rating       429 non-null    int64 \n",
      " 2   jersey       429 non-null    object\n",
      " 3   team         406 non-null    object\n",
      " 4   position     429 non-null    object\n",
      " 5   b_day        429 non-null    object\n",
      " 6   height       429 non-null    object\n",
      " 7   weight       429 non-null    object\n",
      " 8   salary       429 non-null    object\n",
      " 9   country      429 non-null    object\n",
      " 10  draft_year   429 non-null    int64 \n",
      " 11  draft_round  429 non-null    object\n",
      " 12  draft_peak   429 non-null    object\n",
      " 13  college      363 non-null    object\n",
      "dtypes: int64(2), object(12)\n",
      "memory usage: 47.1+ KB\n"
     ]
    }
   ],
   "source": [
    "df.info()"
   ]
  },
  {
   "cell_type": "code",
   "execution_count": 49,
   "id": "f28b1df7-14cf-4efb-9bf4-ef28529868f2",
   "metadata": {},
   "outputs": [],
   "source": [
    "df=df.dropna()"
   ]
  },
  {
   "cell_type": "code",
   "execution_count": 50,
   "id": "603fda53-1702-47f9-aa1e-33efc1539e27",
   "metadata": {},
   "outputs": [],
   "source": [
    "df=df.drop(columns=['full_name','b_day','height','weight','college'])"
   ]
  },
  {
   "cell_type": "code",
   "execution_count": 51,
   "id": "6b6d28a9-0575-47bf-9857-b9d3ba751a57",
   "metadata": {},
   "outputs": [
    {
     "data": {
      "text/html": [
       "<div>\n",
       "<style scoped>\n",
       "    .dataframe tbody tr th:only-of-type {\n",
       "        vertical-align: middle;\n",
       "    }\n",
       "\n",
       "    .dataframe tbody tr th {\n",
       "        vertical-align: top;\n",
       "    }\n",
       "\n",
       "    .dataframe thead th {\n",
       "        text-align: right;\n",
       "    }\n",
       "</style>\n",
       "<table border=\"1\" class=\"dataframe\">\n",
       "  <thead>\n",
       "    <tr style=\"text-align: right;\">\n",
       "      <th></th>\n",
       "      <th>rating</th>\n",
       "      <th>jersey</th>\n",
       "      <th>team</th>\n",
       "      <th>position</th>\n",
       "      <th>salary</th>\n",
       "      <th>country</th>\n",
       "      <th>draft_year</th>\n",
       "      <th>draft_round</th>\n",
       "      <th>draft_peak</th>\n",
       "    </tr>\n",
       "  </thead>\n",
       "  <tbody>\n",
       "    <tr>\n",
       "      <th>408</th>\n",
       "      <td>70</td>\n",
       "      <td>#30</td>\n",
       "      <td>Oklahoma City Thunder</td>\n",
       "      <td>G</td>\n",
       "      <td>$1416852</td>\n",
       "      <td>USA</td>\n",
       "      <td>2014</td>\n",
       "      <td>Undrafted</td>\n",
       "      <td>Undrafted</td>\n",
       "    </tr>\n",
       "    <tr>\n",
       "      <th>244</th>\n",
       "      <td>74</td>\n",
       "      <td>#33</td>\n",
       "      <td>Portland Trail Blazers</td>\n",
       "      <td>C</td>\n",
       "      <td>$4240200</td>\n",
       "      <td>USA</td>\n",
       "      <td>2017</td>\n",
       "      <td>1</td>\n",
       "      <td>10</td>\n",
       "    </tr>\n",
       "    <tr>\n",
       "      <th>268</th>\n",
       "      <td>74</td>\n",
       "      <td>#45</td>\n",
       "      <td>Chicago Bulls</td>\n",
       "      <td>G</td>\n",
       "      <td>$3377568</td>\n",
       "      <td>USA</td>\n",
       "      <td>2016</td>\n",
       "      <td>1</td>\n",
       "      <td>14</td>\n",
       "    </tr>\n",
       "    <tr>\n",
       "      <th>209</th>\n",
       "      <td>75</td>\n",
       "      <td>#21</td>\n",
       "      <td>Brooklyn Nets</td>\n",
       "      <td>F-G</td>\n",
       "      <td>$2564753</td>\n",
       "      <td>USA</td>\n",
       "      <td>2007</td>\n",
       "      <td>1</td>\n",
       "      <td>23</td>\n",
       "    </tr>\n",
       "    <tr>\n",
       "      <th>51</th>\n",
       "      <td>84</td>\n",
       "      <td>#0</td>\n",
       "      <td>Los Angeles Lakers</td>\n",
       "      <td>F</td>\n",
       "      <td>$1974600</td>\n",
       "      <td>USA</td>\n",
       "      <td>2017</td>\n",
       "      <td>1</td>\n",
       "      <td>27</td>\n",
       "    </tr>\n",
       "  </tbody>\n",
       "</table>\n",
       "</div>"
      ],
      "text/plain": [
       "     rating jersey                    team position    salary country  \\\n",
       "408      70    #30   Oklahoma City Thunder        G  $1416852     USA   \n",
       "244      74    #33  Portland Trail Blazers        C  $4240200     USA   \n",
       "268      74    #45           Chicago Bulls        G  $3377568     USA   \n",
       "209      75    #21           Brooklyn Nets      F-G  $2564753     USA   \n",
       "51       84     #0      Los Angeles Lakers        F  $1974600     USA   \n",
       "\n",
       "     draft_year draft_round draft_peak  \n",
       "408        2014   Undrafted  Undrafted  \n",
       "244        2017           1         10  \n",
       "268        2016           1         14  \n",
       "209        2007           1         23  \n",
       "51         2017           1         27  "
      ]
     },
     "execution_count": 51,
     "metadata": {},
     "output_type": "execute_result"
    }
   ],
   "source": [
    "df.sample(5)"
   ]
  },
  {
   "cell_type": "code",
   "execution_count": 52,
   "id": "ebb1d9ca-a951-46a3-935a-3737caea6e36",
   "metadata": {},
   "outputs": [
    {
     "data": {
      "text/plain": [
       "rating         0\n",
       "jersey         0\n",
       "team           0\n",
       "position       0\n",
       "salary         0\n",
       "country        0\n",
       "draft_year     0\n",
       "draft_round    0\n",
       "draft_peak     0\n",
       "dtype: int64"
      ]
     },
     "execution_count": 52,
     "metadata": {},
     "output_type": "execute_result"
    }
   ],
   "source": [
    "df.isnull().sum()"
   ]
  },
  {
   "cell_type": "code",
   "execution_count": 53,
   "id": "167d8b49-9f57-4842-9785-f90250e7ec39",
   "metadata": {},
   "outputs": [],
   "source": [
    "## removing # and $ symbol in jersey and salary col\n",
    "def removehashanddollar(value):\n",
    "    value=value[1:]\n",
    "    return int(value)\n",
    "df['jersey']=df['jersey'].apply(removehashanddollar)"
   ]
  },
  {
   "cell_type": "code",
   "execution_count": 55,
   "id": "9b84a551-ad71-4123-a040-a2effd5e0832",
   "metadata": {},
   "outputs": [],
   "source": [
    "df['salary']=df['salary'].apply(removehashanddollar)"
   ]
  },
  {
   "cell_type": "code",
   "execution_count": 56,
   "id": "832cffcf-f63d-44c1-bb95-9fd7252ea69a",
   "metadata": {},
   "outputs": [
    {
     "data": {
      "text/html": [
       "<div>\n",
       "<style scoped>\n",
       "    .dataframe tbody tr th:only-of-type {\n",
       "        vertical-align: middle;\n",
       "    }\n",
       "\n",
       "    .dataframe tbody tr th {\n",
       "        vertical-align: top;\n",
       "    }\n",
       "\n",
       "    .dataframe thead th {\n",
       "        text-align: right;\n",
       "    }\n",
       "</style>\n",
       "<table border=\"1\" class=\"dataframe\">\n",
       "  <thead>\n",
       "    <tr style=\"text-align: right;\">\n",
       "      <th></th>\n",
       "      <th>rating</th>\n",
       "      <th>jersey</th>\n",
       "      <th>team</th>\n",
       "      <th>position</th>\n",
       "      <th>salary</th>\n",
       "      <th>country</th>\n",
       "      <th>draft_year</th>\n",
       "      <th>draft_round</th>\n",
       "      <th>draft_peak</th>\n",
       "    </tr>\n",
       "  </thead>\n",
       "  <tbody>\n",
       "    <tr>\n",
       "      <th>1</th>\n",
       "      <td>97</td>\n",
       "      <td>2</td>\n",
       "      <td>Los Angeles Clippers</td>\n",
       "      <td>F</td>\n",
       "      <td>32742000</td>\n",
       "      <td>USA</td>\n",
       "      <td>2011</td>\n",
       "      <td>1</td>\n",
       "      <td>15</td>\n",
       "    </tr>\n",
       "    <tr>\n",
       "      <th>3</th>\n",
       "      <td>96</td>\n",
       "      <td>7</td>\n",
       "      <td>Brooklyn Nets</td>\n",
       "      <td>F</td>\n",
       "      <td>37199000</td>\n",
       "      <td>USA</td>\n",
       "      <td>2007</td>\n",
       "      <td>1</td>\n",
       "      <td>2</td>\n",
       "    </tr>\n",
       "    <tr>\n",
       "      <th>4</th>\n",
       "      <td>96</td>\n",
       "      <td>13</td>\n",
       "      <td>Houston Rockets</td>\n",
       "      <td>G</td>\n",
       "      <td>38199000</td>\n",
       "      <td>USA</td>\n",
       "      <td>2009</td>\n",
       "      <td>1</td>\n",
       "      <td>3</td>\n",
       "    </tr>\n",
       "    <tr>\n",
       "      <th>5</th>\n",
       "      <td>95</td>\n",
       "      <td>30</td>\n",
       "      <td>Golden State Warriors</td>\n",
       "      <td>G</td>\n",
       "      <td>40231758</td>\n",
       "      <td>USA</td>\n",
       "      <td>2009</td>\n",
       "      <td>1</td>\n",
       "      <td>7</td>\n",
       "    </tr>\n",
       "    <tr>\n",
       "      <th>6</th>\n",
       "      <td>94</td>\n",
       "      <td>3</td>\n",
       "      <td>Los Angeles Lakers</td>\n",
       "      <td>F-C</td>\n",
       "      <td>27093019</td>\n",
       "      <td>USA</td>\n",
       "      <td>2012</td>\n",
       "      <td>1</td>\n",
       "      <td>1</td>\n",
       "    </tr>\n",
       "  </tbody>\n",
       "</table>\n",
       "</div>"
      ],
      "text/plain": [
       "   rating  jersey                   team position    salary country  \\\n",
       "1      97       2   Los Angeles Clippers        F  32742000     USA   \n",
       "3      96       7          Brooklyn Nets        F  37199000     USA   \n",
       "4      96      13        Houston Rockets        G  38199000     USA   \n",
       "5      95      30  Golden State Warriors        G  40231758     USA   \n",
       "6      94       3     Los Angeles Lakers      F-C  27093019     USA   \n",
       "\n",
       "   draft_year draft_round draft_peak  \n",
       "1        2011           1         15  \n",
       "3        2007           1          2  \n",
       "4        2009           1          3  \n",
       "5        2009           1          7  \n",
       "6        2012           1          1  "
      ]
     },
     "execution_count": 56,
     "metadata": {},
     "output_type": "execute_result"
    }
   ],
   "source": [
    "df.head()"
   ]
  },
  {
   "cell_type": "code",
   "execution_count": 58,
   "id": "650362a1-6b40-423f-a416-3a80a91918b9",
   "metadata": {},
   "outputs": [
    {
     "data": {
      "text/plain": [
       "team\n",
       "New Orleans Pelicans      14\n",
       "Los Angeles Lakers        14\n",
       "Indiana Pacers            14\n",
       "Milwaukee Bucks           14\n",
       "Orlando Magic             14\n",
       "Chicago Bulls             13\n",
       "New York Knicks           13\n",
       "Phoenix Suns              12\n",
       "Sacramento Kings          12\n",
       "Brooklyn Nets             12\n",
       "San Antonio Spurs         12\n",
       "Los Angeles Clippers      12\n",
       "Detroit Pistons           12\n",
       "Minnesota Timberwolves    12\n",
       "Philadelphia 76ers        12\n",
       "Memphis Grizzlies         12\n",
       "Houston Rockets           12\n",
       "Denver Nuggets            12\n",
       "Dallas Mavericks          11\n",
       "Atlanta Hawks             11\n",
       "Toronto Raptors           11\n",
       "Boston Celtics            11\n",
       "Miami Heat                11\n",
       "Cleveland Cavaliers       10\n",
       "Washington Wizards        10\n",
       "Oklahoma City Thunder      9\n",
       "Portland Trail Blazers     9\n",
       "Utah Jazz                  8\n",
       "Golden State Warriors      8\n",
       "Charlotte Hornets          7\n",
       "Name: count, dtype: int64"
      ]
     },
     "execution_count": 58,
     "metadata": {},
     "output_type": "execute_result"
    }
   ],
   "source": [
    "df['team'].value_counts()"
   ]
  },
  {
   "cell_type": "code",
   "execution_count": 59,
   "id": "83d8d1ad-57d0-486f-9628-77b5324a4b0e",
   "metadata": {},
   "outputs": [
    {
     "data": {
      "text/plain": [
       "country\n",
       "USA                   294\n",
       "Canada                 15\n",
       "Australia               7\n",
       "Nigeria                 3\n",
       "The Bahamas             2\n",
       "Ukraine                 2\n",
       "Cameroon                2\n",
       "Mali                    1\n",
       "Egypt                   1\n",
       "Haiti                   1\n",
       "Angola                  1\n",
       "Germany                 1\n",
       "Italy                   1\n",
       "United Kingdom          1\n",
       "Japan                   1\n",
       "Israel                  1\n",
       "Austria                 1\n",
       "Senegal                 1\n",
       "Puerto Rico             1\n",
       "Philippines             1\n",
       "Lithuania               1\n",
       "New Zealand             1\n",
       "Finland                 1\n",
       "Dominican Republic      1\n",
       "Montenegro              1\n",
       "Greece                  1\n",
       "Name: count, dtype: int64"
      ]
     },
     "execution_count": 59,
     "metadata": {},
     "output_type": "execute_result"
    }
   ],
   "source": [
    "df['country'].value_counts()"
   ]
  },
  {
   "cell_type": "code",
   "execution_count": 62,
   "id": "7abbb05b-97c8-4823-809d-23229d5ec449",
   "metadata": {},
   "outputs": [
    {
     "data": {
      "text/plain": [
       "country\n",
       "USA          294\n",
       "Others        28\n",
       "Canada        15\n",
       "Australia      7\n",
       "Name: count, dtype: int64"
      ]
     },
     "execution_count": 62,
     "metadata": {},
     "output_type": "execute_result"
    }
   ],
   "source": [
    "## removing countryoutlier \n",
    "def countryoutlier(value):\n",
    "    if value not in ['USA','Canada','Australia']:\n",
    "        return 'Others'\n",
    "    else:\n",
    "        return value\n",
    "df['country'] = df['country'].apply(countryoutlier)\n",
    "df['country'].value_counts()\n",
    "   "
   ]
  },
  {
   "cell_type": "code",
   "execution_count": 63,
   "id": "03a647c5-89b9-47ec-b187-40ff163ea9e1",
   "metadata": {},
   "outputs": [
    {
     "data": {
      "text/plain": [
       "position\n",
       "G      151\n",
       "F      117\n",
       "C       29\n",
       "F-C     24\n",
       "G-F     11\n",
       "F-G      7\n",
       "C-F      5\n",
       "Name: count, dtype: int64"
      ]
     },
     "execution_count": 63,
     "metadata": {},
     "output_type": "execute_result"
    }
   ],
   "source": [
    "df['position'].value_counts()"
   ]
  },
  {
   "cell_type": "code",
   "execution_count": 64,
   "id": "6c97bd05-fa22-417d-abf2-ec931646bc50",
   "metadata": {},
   "outputs": [
    {
     "data": {
      "text/html": [
       "<div>\n",
       "<style scoped>\n",
       "    .dataframe tbody tr th:only-of-type {\n",
       "        vertical-align: middle;\n",
       "    }\n",
       "\n",
       "    .dataframe tbody tr th {\n",
       "        vertical-align: top;\n",
       "    }\n",
       "\n",
       "    .dataframe thead th {\n",
       "        text-align: right;\n",
       "    }\n",
       "</style>\n",
       "<table border=\"1\" class=\"dataframe\">\n",
       "  <thead>\n",
       "    <tr style=\"text-align: right;\">\n",
       "      <th></th>\n",
       "      <th>rating</th>\n",
       "      <th>jersey</th>\n",
       "      <th>team</th>\n",
       "      <th>position</th>\n",
       "      <th>salary</th>\n",
       "      <th>country</th>\n",
       "      <th>draft_year</th>\n",
       "      <th>draft_round</th>\n",
       "      <th>draft_peak</th>\n",
       "    </tr>\n",
       "  </thead>\n",
       "  <tbody>\n",
       "    <tr>\n",
       "      <th>1</th>\n",
       "      <td>97</td>\n",
       "      <td>2</td>\n",
       "      <td>Los Angeles Clippers</td>\n",
       "      <td>F</td>\n",
       "      <td>32742000</td>\n",
       "      <td>USA</td>\n",
       "      <td>2011</td>\n",
       "      <td>1</td>\n",
       "      <td>15</td>\n",
       "    </tr>\n",
       "    <tr>\n",
       "      <th>3</th>\n",
       "      <td>96</td>\n",
       "      <td>7</td>\n",
       "      <td>Brooklyn Nets</td>\n",
       "      <td>F</td>\n",
       "      <td>37199000</td>\n",
       "      <td>USA</td>\n",
       "      <td>2007</td>\n",
       "      <td>1</td>\n",
       "      <td>2</td>\n",
       "    </tr>\n",
       "    <tr>\n",
       "      <th>4</th>\n",
       "      <td>96</td>\n",
       "      <td>13</td>\n",
       "      <td>Houston Rockets</td>\n",
       "      <td>G</td>\n",
       "      <td>38199000</td>\n",
       "      <td>USA</td>\n",
       "      <td>2009</td>\n",
       "      <td>1</td>\n",
       "      <td>3</td>\n",
       "    </tr>\n",
       "    <tr>\n",
       "      <th>5</th>\n",
       "      <td>95</td>\n",
       "      <td>30</td>\n",
       "      <td>Golden State Warriors</td>\n",
       "      <td>G</td>\n",
       "      <td>40231758</td>\n",
       "      <td>USA</td>\n",
       "      <td>2009</td>\n",
       "      <td>1</td>\n",
       "      <td>7</td>\n",
       "    </tr>\n",
       "    <tr>\n",
       "      <th>6</th>\n",
       "      <td>94</td>\n",
       "      <td>3</td>\n",
       "      <td>Los Angeles Lakers</td>\n",
       "      <td>F-C</td>\n",
       "      <td>27093019</td>\n",
       "      <td>USA</td>\n",
       "      <td>2012</td>\n",
       "      <td>1</td>\n",
       "      <td>1</td>\n",
       "    </tr>\n",
       "  </tbody>\n",
       "</table>\n",
       "</div>"
      ],
      "text/plain": [
       "   rating  jersey                   team position    salary country  \\\n",
       "1      97       2   Los Angeles Clippers        F  32742000     USA   \n",
       "3      96       7          Brooklyn Nets        F  37199000     USA   \n",
       "4      96      13        Houston Rockets        G  38199000     USA   \n",
       "5      95      30  Golden State Warriors        G  40231758     USA   \n",
       "6      94       3     Los Angeles Lakers      F-C  27093019     USA   \n",
       "\n",
       "   draft_year draft_round draft_peak  \n",
       "1        2011           1         15  \n",
       "3        2007           1          2  \n",
       "4        2009           1          3  \n",
       "5        2009           1          7  \n",
       "6        2012           1          1  "
      ]
     },
     "execution_count": 64,
     "metadata": {},
     "output_type": "execute_result"
    }
   ],
   "source": [
    "df.head()"
   ]
  },
  {
   "cell_type": "code",
   "execution_count": 65,
   "id": "e325cfec-f53e-4971-87c6-a9fbc5062597",
   "metadata": {},
   "outputs": [
    {
     "data": {
      "text/plain": [
       "<bound method Series.unique of 1              1\n",
       "3              1\n",
       "4              1\n",
       "5              1\n",
       "6              1\n",
       "         ...    \n",
       "423            2\n",
       "424    Undrafted\n",
       "425            2\n",
       "426    Undrafted\n",
       "428    Undrafted\n",
       "Name: draft_round, Length: 344, dtype: object>"
      ]
     },
     "execution_count": 65,
     "metadata": {},
     "output_type": "execute_result"
    }
   ],
   "source": [
    "df['draft_round'].unique"
   ]
  },
  {
   "cell_type": "code",
   "execution_count": 66,
   "id": "a7793b07-9d5d-4cf8-9b76-d082e85f1613",
   "metadata": {},
   "outputs": [
    {
     "data": {
      "text/plain": [
       "<bound method Series.unique of 1             15\n",
       "3              2\n",
       "4              3\n",
       "5              7\n",
       "6              1\n",
       "         ...    \n",
       "423           58\n",
       "424    Undrafted\n",
       "425           60\n",
       "426    Undrafted\n",
       "428    Undrafted\n",
       "Name: draft_peak, Length: 344, dtype: object>"
      ]
     },
     "execution_count": 66,
     "metadata": {},
     "output_type": "execute_result"
    }
   ],
   "source": [
    "df['draft_peak'].unique"
   ]
  },
  {
   "cell_type": "code",
   "execution_count": 67,
   "id": "51722fb6-5ca0-485d-ad18-a9f74c9dac35",
   "metadata": {},
   "outputs": [],
   "source": [
    "def removeundrafted(value):\n",
    "    if value=='Undrafted':\n",
    "        return \n",
    "    else:\n",
    "        return value\n",
    "    \n",
    "df['draft_round'] = df['draft_round'].apply(removeundrafted)\n",
    "df['draft_peak'] = df['draft_peak'].apply(removeundrafted)\n",
    "\n",
    "df = df.dropna()"
   ]
  },
  {
   "cell_type": "code",
   "execution_count": 68,
   "id": "02eeea92-fd4d-46db-b663-b844ea9e6567",
   "metadata": {},
   "outputs": [
    {
     "data": {
      "text/html": [
       "<div>\n",
       "<style scoped>\n",
       "    .dataframe tbody tr th:only-of-type {\n",
       "        vertical-align: middle;\n",
       "    }\n",
       "\n",
       "    .dataframe tbody tr th {\n",
       "        vertical-align: top;\n",
       "    }\n",
       "\n",
       "    .dataframe thead th {\n",
       "        text-align: right;\n",
       "    }\n",
       "</style>\n",
       "<table border=\"1\" class=\"dataframe\">\n",
       "  <thead>\n",
       "    <tr style=\"text-align: right;\">\n",
       "      <th></th>\n",
       "      <th>rating</th>\n",
       "      <th>jersey</th>\n",
       "      <th>team</th>\n",
       "      <th>position</th>\n",
       "      <th>salary</th>\n",
       "      <th>country</th>\n",
       "      <th>draft_year</th>\n",
       "      <th>draft_round</th>\n",
       "      <th>draft_peak</th>\n",
       "    </tr>\n",
       "  </thead>\n",
       "  <tbody>\n",
       "    <tr>\n",
       "      <th>1</th>\n",
       "      <td>97</td>\n",
       "      <td>2</td>\n",
       "      <td>12</td>\n",
       "      <td>2</td>\n",
       "      <td>32742000</td>\n",
       "      <td>3</td>\n",
       "      <td>2011</td>\n",
       "      <td>1</td>\n",
       "      <td>15</td>\n",
       "    </tr>\n",
       "    <tr>\n",
       "      <th>3</th>\n",
       "      <td>96</td>\n",
       "      <td>7</td>\n",
       "      <td>2</td>\n",
       "      <td>2</td>\n",
       "      <td>37199000</td>\n",
       "      <td>3</td>\n",
       "      <td>2007</td>\n",
       "      <td>1</td>\n",
       "      <td>2</td>\n",
       "    </tr>\n",
       "    <tr>\n",
       "      <th>4</th>\n",
       "      <td>96</td>\n",
       "      <td>13</td>\n",
       "      <td>10</td>\n",
       "      <td>5</td>\n",
       "      <td>38199000</td>\n",
       "      <td>3</td>\n",
       "      <td>2009</td>\n",
       "      <td>1</td>\n",
       "      <td>3</td>\n",
       "    </tr>\n",
       "    <tr>\n",
       "      <th>5</th>\n",
       "      <td>95</td>\n",
       "      <td>30</td>\n",
       "      <td>9</td>\n",
       "      <td>5</td>\n",
       "      <td>40231758</td>\n",
       "      <td>3</td>\n",
       "      <td>2009</td>\n",
       "      <td>1</td>\n",
       "      <td>7</td>\n",
       "    </tr>\n",
       "    <tr>\n",
       "      <th>6</th>\n",
       "      <td>94</td>\n",
       "      <td>3</td>\n",
       "      <td>13</td>\n",
       "      <td>3</td>\n",
       "      <td>27093019</td>\n",
       "      <td>3</td>\n",
       "      <td>2012</td>\n",
       "      <td>1</td>\n",
       "      <td>1</td>\n",
       "    </tr>\n",
       "  </tbody>\n",
       "</table>\n",
       "</div>"
      ],
      "text/plain": [
       "   rating  jersey  team  position    salary  country  draft_year draft_round  \\\n",
       "1      97       2    12         2  32742000        3        2011           1   \n",
       "3      96       7     2         2  37199000        3        2007           1   \n",
       "4      96      13    10         5  38199000        3        2009           1   \n",
       "5      95      30     9         5  40231758        3        2009           1   \n",
       "6      94       3    13         3  27093019        3        2012           1   \n",
       "\n",
       "  draft_peak  \n",
       "1         15  \n",
       "3          2  \n",
       "4          3  \n",
       "5          7  \n",
       "6          1  "
      ]
     },
     "execution_count": 68,
     "metadata": {},
     "output_type": "execute_result"
    }
   ],
   "source": [
    "from sklearn.preprocessing import LabelEncoder\n",
    "le=LabelEncoder()\n",
    "df['position']=le.fit_transform(df['position'])\n",
    "df['country']=le.fit_transform(df['country'])\n",
    "df['team']=le.fit_transform(df['team'])\n",
    "\n",
    "df.head()"
   ]
  },
  {
   "cell_type": "code",
   "execution_count": 70,
   "id": "aa8b34c7-5945-4a5e-8315-0c27838823af",
   "metadata": {},
   "outputs": [
    {
     "data": {
      "text/plain": [
       "(292, 9)"
      ]
     },
     "execution_count": 70,
     "metadata": {},
     "output_type": "execute_result"
    }
   ],
   "source": [
    "df.shape"
   ]
  },
  {
   "cell_type": "code",
   "execution_count": 71,
   "id": "7ba2d62d-0062-4779-810f-9238fe57a5d0",
   "metadata": {},
   "outputs": [],
   "source": [
    "X=df.drop(columns='salary')\n",
    "y=df['salary']"
   ]
  },
  {
   "cell_type": "code",
   "execution_count": 74,
   "id": "34b9fadd-3a9b-452d-bb6a-6d39b9b84cee",
   "metadata": {},
   "outputs": [],
   "source": [
    "from sklearn.model_selection import train_test_split\n",
    "X_train,X_test,y_train,y_test=train_test_split(X,y,test_size=0.2,random_state=2)"
   ]
  },
  {
   "cell_type": "code",
   "execution_count": 76,
   "id": "78e44c9e-cf9e-4ac5-9b44-7c31fabfa9f2",
   "metadata": {},
   "outputs": [],
   "source": [
    "from sklearn.linear_model import LinearRegression\n",
    "lr=LinearRegression()\n",
    "lr.fit(X_train,y_train)\n",
    "predictions=lr.predict(X_test)"
   ]
  },
  {
   "cell_type": "code",
   "execution_count": 77,
   "id": "cbc81ecc-cc46-4827-9860-677974818e00",
   "metadata": {},
   "outputs": [],
   "source": [
    "diff=y_test-predictions"
   ]
  },
  {
   "cell_type": "code",
   "execution_count": 79,
   "id": "6cc58882-5abe-42dd-92d2-a59e918fc889",
   "metadata": {},
   "outputs": [
    {
     "name": "stderr",
     "output_type": "stream",
     "text": [
      "C:\\Users\\Nagendra\\AppData\\Local\\Temp\\ipykernel_17904\\1670086357.py:2: UserWarning: \n",
      "\n",
      "`distplot` is a deprecated function and will be removed in seaborn v0.14.0.\n",
      "\n",
      "Please adapt your code to use either `displot` (a figure-level function with\n",
      "similar flexibility) or `histplot` (an axes-level function for histograms).\n",
      "\n",
      "For a guide to updating your code to use the new functions, please see\n",
      "https://gist.github.com/mwaskom/de44147ed2974457ad6372750bbe5751\n",
      "\n",
      "  sns.distplot(diff)\n",
      "C:\\ProgramData\\anaconda3\\Lib\\site-packages\\seaborn\\_oldcore.py:1119: FutureWarning: use_inf_as_na option is deprecated and will be removed in a future version. Convert inf values to NaN before operating instead.\n",
      "  with pd.option_context('mode.use_inf_as_na', True):\n"
     ]
    },
    {
     "data": {
      "text/plain": [
       "<Axes: xlabel='salary', ylabel='Density'>"
      ]
     },
     "execution_count": 79,
     "metadata": {},
     "output_type": "execute_result"
    },
    {
     "data": {
      "image/png": "[encoded data removed]",
      "text/plain": [
       "<Figure size 640x480 with 1 Axes>"
      ]
     },
     "metadata": {},
     "output_type": "display_data"
    }
   ],
   "source": [
    "import seaborn as sns\n",
    "sns.distplot(diff)"
   ]
  },
  {
   "cell_type": "code",
   "execution_count": 82,
   "id": "87b8e777-c2f1-4e83-8566-386ddd743add",
   "metadata": {},
   "outputs": [],
   "source": [
    "import pickle\n",
    "\n",
    "# open a file, where you ant to store the data\n",
    "file = open('Linear_Regression.pkl', 'wb')\n",
    "\n",
    "# dump information to that file\n",
    "pickle.dump(lr, file)"
   ]
  },
  {
   "cell_type": "code",
   "execution_count": null,
   "id": "bf801438-53d9-42af-abbc-147aac545d85",
   "metadata": {},
   "outputs": [],
   "source": []
  }
 ],
 "metadata": {
  "kernelspec": {
   "display_name": "Python 3 (ipykernel)",
   "language": "python",
   "name": "python3"
  },
  "language_info": {
   "codemirror_mode": {
    "name": "ipython",
    "version": 3
   },
   "file_extension": ".py",
   "mimetype": "text/x-python",
   "name": "python",
   "nbconvert_exporter": "python",
   "pygments_lexer": "ipython3",
   "version": "3.11.5"
  },
  "widgets": {
   "application/vnd.jupyter.widget-state+json": {
    "state": {},
    "version_major": 2,
    "version_minor": 0
   }
  }
 },
 "nbformat": 4,
 "nbformat_minor": 5
}
